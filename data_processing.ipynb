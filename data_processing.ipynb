{
 "cells": [
  {
   "cell_type": "code",
   "execution_count": 2,
   "id": "76dcfa46",
   "metadata": {},
   "outputs": [],
   "source": [
    "import pandas as pd\n",
    "import json"
   ]
  },
  {
   "cell_type": "code",
   "execution_count": 3,
   "id": "8e4b9b62",
   "metadata": {
    "scrolled": false
   },
   "outputs": [
    {
     "name": "stderr",
     "output_type": "stream",
     "text": [
      "C:\\Users\\user\\anaconda3\\lib\\site-packages\\openpyxl\\styles\\stylesheet.py:226: UserWarning: Workbook contains no default style, apply openpyxl's default\n",
      "  warn(\"Workbook contains no default style, apply openpyxl's default\")\n"
     ]
    }
   ],
   "source": [
    "file_path = './2023-24_class_timetable_20230824.xlsx' #processing course data for timetable subpage\n",
    "df = pd.read_excel(file_path)"
   ]
  },
  {
   "cell_type": "code",
   "execution_count": null,
   "id": "29b82c1f",
   "metadata": {
    "scrolled": true
   },
   "outputs": [],
   "source": [
    "courseData = []\n",
    "\n",
    "for _, row in df.iterrows():\n",
    "    \n",
    "    if row['TERM'][8:13] == 'Sem 2' or row['TERM'][8:13] == '': continue #edit 'Sem 2' to 'Sem 1' to get course data for sem2\n",
    "    \n",
    "    courseName = row['COURSE CODE'] + '-' + row['CLASS SECTION']\n",
    "    courseTitle = row['COURSE TITLE']\n",
    "    \n",
    "    days = row.loc[['MON', 'TUE', 'WED', 'THU', 'FRI', 'SAT', 'SUN']].tolist()\n",
    "    day = [x for x in days if pd.notna(x)]\n",
    "    if len(day) == 0 : continue\n",
    "    else: day = day[0]\n",
    "        \n",
    "    venue = row['VENUE']\n",
    "    if type(venue) == float : venue = 'TBA'\n",
    "    time = f\"{row['START TIME']}-{row['END TIME']}\"\n",
    "    \n",
    "    course = next((c for c in courseData if c['courseName'] == courseName), None)\n",
    "    \n",
    "    if course is None:\n",
    "        course = {\n",
    "            'courseName': courseName,\n",
    "            'courseTitle': courseTitle,\n",
    "            'lectures': [],\n",
    "            'isChecked': False,\n",
    "        }\n",
    "        courseData.append(course)\n",
    "        \n",
    "    lecture = {\n",
    "        'day':day,\n",
    "        'time': time,\n",
    "        'venue': venue\n",
    "    }\n",
    "    course['lectures'].append(lecture)\n",
    "    \n",
    "for course in courseData:\n",
    "    course['lectures'] = [dict(t) for t in {tuple(d.items()) for d in course['lectures']}]\n",
    "    \n",
    "json_string = json.dumps(courseData)\n",
    "\n",
    "print(json_string)"
   ]
  }
 ],
 "metadata": {
  "kernelspec": {
   "display_name": "Python 3 (ipykernel)",
   "language": "python",
   "name": "python3"
  },
  "language_info": {
   "codemirror_mode": {
    "name": "ipython",
    "version": 3
   },
   "file_extension": ".py",
   "mimetype": "text/x-python",
   "name": "python",
   "nbconvert_exporter": "python",
   "pygments_lexer": "ipython3",
   "version": "3.10.9"
  }
 },
 "nbformat": 4,
 "nbformat_minor": 5
}
