{
 "cells": [
  {
   "cell_type": "code",
   "execution_count": 11,
   "metadata": {},
   "outputs": [],
   "source": [
    "def get_first_strings(file_path):\n",
    "    first_strings = []\n",
    "    with open(file_path, 'r') as file:\n",
    "        for line in file:\n",
    "            line = line.strip()  # Remove leading/trailing whitespace\n",
    "            if line:  # Skip empty lines\n",
    "                first_word = line.split()[0]  # Get the first word of the line\n",
    "                first_strings.append(first_word)\n",
    "    return first_strings"
   ]
  },
  {
   "cell_type": "code",
   "execution_count": 16,
   "metadata": {},
   "outputs": [
    {
     "name": "stdout",
     "output_type": "stream",
     "text": [
      "\"COMP3270\",\n",
      "\"COMP3317\",\n",
      "\"COMP3323\",\n",
      "\"FITE3010\",\n",
      "\"Advanced\",\n",
      "\"Big\",\n",
      "\"6\",\n",
      "\"COMP3340\",\n",
      "\"COMP3353\",\n",
      "\"COMP3355\",\n",
      "\"COMP3361\",\n",
      "\"COMP3362\",\n",
      "\"COMP3407\",\n",
      "\"COMP3513\",\n",
      "\"COMP3516\",\n",
      "\"COMP3520\",\n",
      "\"COMP3521\",\n",
      "\"FITE2010\",\n",
      "\"SOWK3136\",\n",
      "\"STAT3600\",\n",
      "\"STAT3612\",\n",
      "\"STAT3621\",\n",
      "\"STAT4601\",\n",
      "\"STAT4602\",\n"
     ]
    }
   ],
   "source": [
    "for s in get_first_strings(\"courseList.txt\"):\n",
    "    print(f'\"{s}\",')"
   ]
  },
  {
   "cell_type": "code",
   "execution_count": 9,
   "metadata": {},
   "outputs": [],
   "source": [
    "def get_whole_line(file_path):\n",
    "    first_strings = []\n",
    "    with open(file_path, 'r') as file:\n",
    "        for line in file:\n",
    "            line = line.strip()  # Remove leading/trailing whitespace\n",
    "            if line:  # Skip empty lines\n",
    "                temp = line.replace(\" (6)\", \"\")\n",
    "                print('{\"name\": \"' + temp.split()[0] + '\", \"prereg\": [[\"\", \"\", \"\"]], \"isPrereg\": [], \"exclusive\": [\"\"], \"recommendYear\": 0, \"credit\": 0, \"fullName\": \"' + \" \".join(temp.split()[1:]) + '\"},')"
   ]
  },
  {
   "cell_type": "code",
   "execution_count": 10,
   "metadata": {},
   "outputs": [
    {
     "name": "stdout",
     "output_type": "stream",
     "text": [
      "{\"name\": \"MATH3303\", \"prereg\": [[\"\", \"\", \"\"]], \"isPrereg\": [], \"exclusive\": [\"\"], \"recommendYear\": 0, \"credit\": 0, \"fullName\": \"Matrix theory and its applications\"},\n",
      "{\"name\": \"MATH3304\", \"prereg\": [[\"\", \"\", \"\"]], \"isPrereg\": [], \"exclusive\": [\"\"], \"recommendYear\": 0, \"credit\": 0, \"fullName\": \"Introduction to number theory\"},\n",
      "{\"name\": \"MATH3401\", \"prereg\": [[\"\", \"\", \"\"]], \"isPrereg\": [], \"exclusive\": [\"\"], \"recommendYear\": 0, \"credit\": 0, \"fullName\": \"Analysis I\"},\n",
      "{\"name\": \"MATH3403\", \"prereg\": [[\"\", \"\", \"\"]], \"isPrereg\": [], \"exclusive\": [\"\"], \"recommendYear\": 0, \"credit\": 0, \"fullName\": \"Functions of a complex variable\"},\n",
      "{\"name\": \"MATH3405\", \"prereg\": [[\"\", \"\", \"\"]], \"isPrereg\": [], \"exclusive\": [\"\"], \"recommendYear\": 0, \"credit\": 0, \"fullName\": \"Differential equations\"},\n",
      "{\"name\": \"MATH3408\", \"prereg\": [[\"\", \"\", \"\"]], \"isPrereg\": [], \"exclusive\": [\"\"], \"recommendYear\": 0, \"credit\": 0, \"fullName\": \"Computational methods and differential equations with applications\"},\n",
      "{\"name\": \"MATH3541\", \"prereg\": [[\"\", \"\", \"\"]], \"isPrereg\": [], \"exclusive\": [\"\"], \"recommendYear\": 0, \"credit\": 0, \"fullName\": \"Introduction to topology\"},\n",
      "{\"name\": \"MATH3600\", \"prereg\": [[\"\", \"\", \"\"]], \"isPrereg\": [], \"exclusive\": [\"\"], \"recommendYear\": 0, \"credit\": 0, \"fullName\": \"Discrete mathematics\"},\n",
      "{\"name\": \"MATH3601\", \"prereg\": [[\"\", \"\", \"\"]], \"isPrereg\": [], \"exclusive\": [\"\"], \"recommendYear\": 0, \"credit\": 0, \"fullName\": \"Numerical analysis\"},\n",
      "{\"name\": \"MATH3603\", \"prereg\": [[\"\", \"\", \"\"]], \"isPrereg\": [], \"exclusive\": [\"\"], \"recommendYear\": 0, \"credit\": 0, \"fullName\": \"Probability theory\"},\n",
      "{\"name\": \"MATH3901\", \"prereg\": [[\"\", \"\", \"\"]], \"isPrereg\": [], \"exclusive\": [\"\"], \"recommendYear\": 0, \"credit\": 0, \"fullName\": \"Operations research I\"},\n",
      "{\"name\": \"MATH3904\", \"prereg\": [[\"\", \"\", \"\"]], \"isPrereg\": [], \"exclusive\": [\"\"], \"recommendYear\": 0, \"credit\": 0, \"fullName\": \"Introduction to optimization\"},\n",
      "{\"name\": \"MATH3905\", \"prereg\": [[\"\", \"\", \"\"]], \"isPrereg\": [], \"exclusive\": [\"\"], \"recommendYear\": 0, \"credit\": 0, \"fullName\": \"Queueing theory and simulation\"},\n",
      "{\"name\": \"MATH3906\", \"prereg\": [[\"\", \"\", \"\"]], \"isPrereg\": [], \"exclusive\": [\"\"], \"recommendYear\": 0, \"credit\": 0, \"fullName\": \"Financial calculus\"},\n",
      "{\"name\": \"MATH3911\", \"prereg\": [[\"\", \"\", \"\"]], \"isPrereg\": [], \"exclusive\": [\"\"], \"recommendYear\": 0, \"credit\": 0, \"fullName\": \"Game theory and strategy\"},\n",
      "{\"name\": \"MATH3943\", \"prereg\": [[\"\", \"\", \"\"]], \"isPrereg\": [], \"exclusive\": [\"\"], \"recommendYear\": 0, \"credit\": 0, \"fullName\": \"Network models in operations research\"},\n",
      "{\"name\": \"MATH4302\", \"prereg\": [[\"\", \"\", \"\"]], \"isPrereg\": [], \"exclusive\": [\"\"], \"recommendYear\": 0, \"credit\": 0, \"fullName\": \"Algebra II\"},\n",
      "{\"name\": \"MATH4402\", \"prereg\": [[\"\", \"\", \"\"]], \"isPrereg\": [], \"exclusive\": [\"\"], \"recommendYear\": 0, \"credit\": 0, \"fullName\": \"Analysis II\"},\n",
      "{\"name\": \"MATH4404\", \"prereg\": [[\"\", \"\", \"\"]], \"isPrereg\": [], \"exclusive\": [\"\"], \"recommendYear\": 0, \"credit\": 0, \"fullName\": \"Functional analysis\"},\n",
      "{\"name\": \"MATH4406\", \"prereg\": [[\"\", \"\", \"\"]], \"isPrereg\": [], \"exclusive\": [\"\"], \"recommendYear\": 0, \"credit\": 0, \"fullName\": \"Introduction to partial differential equations\"},\n",
      "{\"name\": \"MATH4501\", \"prereg\": [[\"\", \"\", \"\"]], \"isPrereg\": [], \"exclusive\": [\"\"], \"recommendYear\": 0, \"credit\": 0, \"fullName\": \"Geometry\"},\n",
      "{\"name\": \"MATH4511\", \"prereg\": [[\"\", \"\", \"\"]], \"isPrereg\": [], \"exclusive\": [\"\"], \"recommendYear\": 0, \"credit\": 0, \"fullName\": \"Introduction to differentiable manifolds\"},\n",
      "{\"name\": \"MATH4602\", \"prereg\": [[\"\", \"\", \"\"]], \"isPrereg\": [], \"exclusive\": [\"\"], \"recommendYear\": 0, \"credit\": 0, \"fullName\": \"Scientific computing\"},\n",
      "{\"name\": \"MATH4902\", \"prereg\": [[\"\", \"\", \"\"]], \"isPrereg\": [], \"exclusive\": [\"\"], \"recommendYear\": 0, \"credit\": 0, \"fullName\": \"Operations research II\"},\n",
      "{\"name\": \"MATH4907\", \"prereg\": [[\"\", \"\", \"\"]], \"isPrereg\": [], \"exclusive\": [\"\"], \"recommendYear\": 0, \"credit\": 0, \"fullName\": \"Numerical methods for financial calculus\"},\n",
      "{\"name\": \"MATH7101\", \"prereg\": [[\"\", \"\", \"\"]], \"isPrereg\": [], \"exclusive\": [\"\"], \"recommendYear\": 0, \"credit\": 0, \"fullName\": \"Intermediate complex analysis\"},\n",
      "{\"name\": \"MATH7201\", \"prereg\": [[\"\", \"\", \"\"]], \"isPrereg\": [], \"exclusive\": [\"\"], \"recommendYear\": 0, \"credit\": 0, \"fullName\": \"Topics in geometry\"},\n",
      "{\"name\": \"MATH7202\", \"prereg\": [[\"\", \"\", \"\"]], \"isPrereg\": [], \"exclusive\": [\"\"], \"recommendYear\": 0, \"credit\": 0, \"fullName\": \"Complex manifolds\"},\n",
      "{\"name\": \"MATH7217\", \"prereg\": [[\"\", \"\", \"\"]], \"isPrereg\": [], \"exclusive\": [\"\"], \"recommendYear\": 0, \"credit\": 0, \"fullName\": \"Topics in financial mathematics\"},\n",
      "{\"name\": \"MATH7219\", \"prereg\": [[\"\", \"\", \"\"]], \"isPrereg\": [], \"exclusive\": [\"\"], \"recommendYear\": 0, \"credit\": 0, \"fullName\": \"Topics in applied functional analysis\"},\n",
      "{\"name\": \"MATH7224\", \"prereg\": [[\"\", \"\", \"\"]], \"isPrereg\": [], \"exclusive\": [\"\"], \"recommendYear\": 0, \"credit\": 0, \"fullName\": \"Topics in advanced probability theory\"},\n",
      "{\"name\": \"MATH7501\", \"prereg\": [[\"\", \"\", \"\"]], \"isPrereg\": [], \"exclusive\": [\"\"], \"recommendYear\": 0, \"credit\": 0, \"fullName\": \"Topics in algebra\"},\n",
      "{\"name\": \"MATH7502\", \"prereg\": [[\"\", \"\", \"\"]], \"isPrereg\": [], \"exclusive\": [\"\"], \"recommendYear\": 0, \"credit\": 0, \"fullName\": \"Topics in applied discrete mathematics\"},\n",
      "{\"name\": \"MATH7503\", \"prereg\": [[\"\", \"\", \"\"]], \"isPrereg\": [], \"exclusive\": [\"\"], \"recommendYear\": 0, \"credit\": 0, \"fullName\": \"Topics in advanced optimization\"},\n",
      "{\"name\": \"MATH7504\", \"prereg\": [[\"\", \"\", \"\"]], \"isPrereg\": [], \"exclusive\": [\"\"], \"recommendYear\": 0, \"credit\": 0, \"fullName\": \"Geometric topology\"},\n",
      "{\"name\": \"MATH7505\", \"prereg\": [[\"\", \"\", \"\"]], \"isPrereg\": [], \"exclusive\": [\"\"], \"recommendYear\": 0, \"credit\": 0, \"fullName\": \"Real analysis\"},\n"
     ]
    }
   ],
   "source": [
    "get_whole_line(\"courseList.txt\")"
   ]
  }
 ],
 "metadata": {
  "kernelspec": {
   "display_name": "Python 3",
   "language": "python",
   "name": "python3"
  },
  "language_info": {
   "codemirror_mode": {
    "name": "ipython",
    "version": 3
   },
   "file_extension": ".py",
   "mimetype": "text/x-python",
   "name": "python",
   "nbconvert_exporter": "python",
   "pygments_lexer": "ipython3",
   "version": "3.11.9"
  }
 },
 "nbformat": 4,
 "nbformat_minor": 2
}
